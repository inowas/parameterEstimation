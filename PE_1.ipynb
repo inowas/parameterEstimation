{
 "cells": [
  {
   "cell_type": "code",
   "execution_count": 3,
   "metadata": {},
   "outputs": [],
   "source": [
    "from simpleModel import calculate_model"
   ]
  },
  {
   "cell_type": "code",
   "execution_count": 6,
   "metadata": {},
   "outputs": [
    {
     "name": "stdout",
     "output_type": "stream",
     "text": [
      "[11.273311157226559, 7.731622161865232, 6.16745971679687, 5.668799743652343, 22.465546112060544, 27.597454376220703, 24.94959312438965, 24.35374694824219, 12.683146057128909, 15.273475952148438, 18.73899612426758, 31.448237667083742, 6.670976867675783, 8.794653167724611, 24.238733749389645, 11.996721954345702]\n"
     ]
    }
   ],
   "source": [
    "z1_hk = 3.3\n",
    "z2_hk = 4.4\n",
    "z3_hk = 5.5\n",
    "\n",
    "result = calculate_model(z1_hk, z2_hk, z3_hk)\n",
    "print(result)"
   ]
  },
  {
   "cell_type": "code",
   "execution_count": null,
   "metadata": {},
   "outputs": [],
   "source": []
  }
 ],
 "metadata": {
  "kernelspec": {
   "display_name": "Python 3",
   "language": "python",
   "name": "python3"
  },
  "language_info": {
   "codemirror_mode": {
    "name": "ipython",
    "version": 3
   },
   "file_extension": ".py",
   "mimetype": "text/x-python",
   "name": "python",
   "nbconvert_exporter": "python",
   "pygments_lexer": "ipython3",
   "version": "3.7.1"
  }
 },
 "nbformat": 4,
 "nbformat_minor": 2
}
